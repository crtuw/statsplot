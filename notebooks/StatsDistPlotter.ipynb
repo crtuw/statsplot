{
 "cells": [
  {
   "cell_type": "code",
   "execution_count": 1,
   "id": "8532df8d-b110-48d1-8044-39441a2ac709",
   "metadata": {},
   "outputs": [],
   "source": [
    "import sys\n",
    "sys.path.insert(0, '..')"
   ]
  },
  {
   "cell_type": "code",
   "execution_count": null,
   "id": "2c3167d7-656d-4c18-8fbf-08b9da2bb291",
   "metadata": {},
   "outputs": [],
   "source": [
    "from source.StatsDistSampleDashboard import StatsDistSampleDashboard\n",
    "foo = StatsDistSampleDashboard()\n",
    "foo.statsDistFunArtist.kwargs_fillstyle = dict(color=\"lightgrey\")\n",
    "foo.plot_all()"
   ]
  }
 ],
 "metadata": {
  "kernelspec": {
   "display_name": "Python 3 (ipykernel)",
   "language": "python",
   "name": "python3"
  },
  "language_info": {
   "codemirror_mode": {
    "name": "ipython",
    "version": 3
   },
   "file_extension": ".py",
   "mimetype": "text/x-python",
   "name": "python",
   "nbconvert_exporter": "python",
   "pygments_lexer": "ipython3",
   "version": "3.12.4"
  }
 },
 "nbformat": 4,
 "nbformat_minor": 5
}
